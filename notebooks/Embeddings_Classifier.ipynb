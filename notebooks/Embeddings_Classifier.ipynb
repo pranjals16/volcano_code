{
 "cells": [
  {
   "cell_type": "code",
   "execution_count": 1,
   "metadata": {},
   "outputs": [
    {
     "name": "stderr",
     "output_type": "stream",
     "text": [
      "c:\\users\\pranjal\\appdata\\local\\programs\\python\\python35\\lib\\site-packages\\sklearn\\ensemble\\weight_boosting.py:29: DeprecationWarning: numpy.core.umath_tests is an internal NumPy module and should not be imported. It will be removed in a future NumPy release.\n",
      "  from numpy.core.umath_tests import inner1d\n",
      "c:\\users\\pranjal\\appdata\\local\\programs\\python\\python35\\lib\\site-packages\\gensim\\utils.py:1209: UserWarning: detected Windows; aliasing chunkize to chunkize_serial\n",
      "  warnings.warn(\"detected Windows; aliasing chunkize to chunkize_serial\")\n"
     ]
    }
   ],
   "source": [
    "from collections import defaultdict\n",
    "import numpy as np\n",
    "from sklearn.feature_extraction.text import CountVectorizer, TfidfTransformer\n",
    "from sklearn.feature_extraction.text import TfidfVectorizer\n",
    "import re\n",
    "from sklearn.svm import SVC, LinearSVC\n",
    "from sklearn.metrics import accuracy_score, precision_recall_curve\n",
    "from sklearn import metrics\n",
    "import matplotlib.pyplot as plt\n",
    "from sklearn.ensemble import AdaBoostClassifier\n",
    "import nltk\n",
    "from nltk.stem.porter import PorterStemmer\n",
    "from sklearn.externals import joblib\n",
    "import gensim"
   ]
  },
  {
   "cell_type": "code",
   "execution_count": 2,
   "metadata": {},
   "outputs": [],
   "source": [
    "BASE_PATH = \"../data/\""
   ]
  },
  {
   "cell_type": "code",
   "execution_count": 3,
   "metadata": {},
   "outputs": [],
   "source": [
    "def plot_random(test_features, y_true, test_features_transformed):\n",
    "    mnb_clf = joblib.load('../model/mnb.pkl')\n",
    "    rf_clf = joblib.load('../model/rf.pkl')\n",
    "    adb_clf = joblib.load('../model/adb.pkl')\n",
    "    svc_linear_clf = joblib.load('../model/svc_linear.pkl')\n",
    "    svc_linear_glove_clf = joblib.load('../model/svc_glove_mean.pkl')\n",
    "    y_proba_mnb = mnb_clf.predict_proba(test_features)[:, 1]\n",
    "    y_proba_rf = rf_clf.predict_proba(test_features)[:, 1]\n",
    "    y_proba_adb = adb_clf.predict_proba(test_features)[:, 1]\n",
    "    y_proba_svc_linear = svc_linear_clf.predict_proba(test_features)[:, 1]\n",
    "    y_proba_svc_glove = svc_linear_glove_clf.predict_proba(test_features_transformed)[:, 1]\n",
    "    precision1, recall1, _ = precision_recall_curve(y_true, y_proba_mnb)\n",
    "    precision2, recall2, _ = precision_recall_curve(y_true, y_proba_rf)\n",
    "    precision3, recall3, _ = precision_recall_curve(y_true, y_proba_adb)\n",
    "    precision4, recall4, _ = precision_recall_curve(y_true, y_proba_svc_linear)\n",
    "    precision5, recall5, _ = precision_recall_curve(y_true, y_proba_svc_glove)\n",
    "    plt.step(recall1, precision1, alpha=0.6, where='post', label=\"MNB\")\n",
    "    plt.step(recall2, precision2, alpha=0.6, where='post', label=\"RF\")\n",
    "    plt.step(recall3, precision3, alpha=0.6, where='post', label=\"ADB\")\n",
    "    plt.step(recall4, precision4, alpha=0.6, where='post', label=\"SVC_Linear\")\n",
    "    plt.step(recall5, precision5, alpha=0.6, where='post', label=\"SVC_Linear_Glove\")\n",
    "    plt.xlabel('Recall')\n",
    "    plt.ylabel('Precision')\n",
    "    plt.ylim([0.0, 1.05])\n",
    "    plt.xlim([0.0, 1.0])\n",
    "    plt.grid()\n",
    "    plt.legend()\n",
    "    plt.title('2-class Precision-Recall curve')\n",
    "    plt.show()"
   ]
  },
  {
   "cell_type": "code",
   "execution_count": 13,
   "metadata": {},
   "outputs": [],
   "source": [
    "class MyTokenizer:\n",
    "    def __init__(self):\n",
    "        pass\n",
    "    \n",
    "    def fit(self, X, y=None):\n",
    "        return self\n",
    "    \n",
    "    def transform(self, X):\n",
    "        transformed_X = []\n",
    "        for document in X:\n",
    "            tokenized_doc = []\n",
    "            for sent in nltk.sent_tokenize(document):\n",
    "                tokenized_doc += nltk.word_tokenize(sent)\n",
    "            transformed_X.append(np.array(tokenized_doc))\n",
    "        return np.array(transformed_X)\n",
    "    \n",
    "    def fit_transform(self, X, y=None):\n",
    "        return self.transform(X)\n",
    "\n",
    "class MeanEmbeddingVectorizer(object):\n",
    "    def __init__(self, word2vec):\n",
    "        self.word2vec = word2vec\n",
    "        # if a text is empty we should return a vector of zeros\n",
    "        # with the same dimensionality as all the other vectors\n",
    "        self.dim = 300\n",
    "\n",
    "    def fit(self, X, y=None):\n",
    "        return self\n",
    "\n",
    "    def transform(self, X):\n",
    "        X = MyTokenizer().fit_transform(X)\n",
    "        final_res = []\n",
    "        for words in X:\n",
    "            tmp_list = []\n",
    "            for w in words:\n",
    "                try:\n",
    "                    tmp_list.append(self.word2vec[w])\n",
    "                except KeyError:\n",
    "                    tmp_list.append(np.zeros(self.dim))\n",
    "            final_res.append(np.mean(tmp_list, axis=0))\n",
    "        return np.array(final_res)            \n",
    "    \n",
    "    def fit_transform(self, X, y=None):\n",
    "        return self.transform(X)"
   ]
  },
  {
   "cell_type": "code",
   "execution_count": 5,
   "metadata": {},
   "outputs": [],
   "source": [
    "class AverageEmbeddingVectorizer(object):\n",
    "    def __init__(self, glove2vec, word2vec):\n",
    "        self.glove2vec = glove2vec\n",
    "        self.word2vec = word2vec\n",
    "        # if a text is empty we should return a vector of zeros\n",
    "        # with the same dimensionality as all the other vectors\n",
    "        self.dim = 300\n",
    "\n",
    "    def fit(self, X, y=None):\n",
    "        return self\n",
    "\n",
    "    def transform(self, X):\n",
    "        X = MyTokenizer().fit_transform(X)\n",
    "        final_res = []\n",
    "        for words in X:\n",
    "            tmp_list = []\n",
    "            for w in words:\n",
    "                try:\n",
    "                    w2v_list = self.word2vec[w]\n",
    "                except KeyError:\n",
    "                    w2v_list = np.zeros(self.dim)\n",
    "                try:\n",
    "                    g2v_list = self.glove2vec[w]\n",
    "                except KeyError:\n",
    "                    g2v_list = np.zeros(self.dim)\n",
    "                tmp_list.append(np.concatenate([g2v_list, w2v_list]))\n",
    "            final_res.append(np.mean(tmp_list, axis=0))\n",
    "        return np.array(final_res)            \n",
    "    \n",
    "    def fit_transform(self, X, y=None):\n",
    "        return self.transform(X)"
   ]
  },
  {
   "cell_type": "code",
   "execution_count": 16,
   "metadata": {},
   "outputs": [],
   "source": [
    "def remove_hyperlink(text):\n",
    "    text = re.sub(r\"http\\S+\", '',  text.decode(\"utf-8\"))\n",
    "    return text.lower()\n",
    "\n",
    "\n",
    "def read_files(file_type):\n",
    "    x_list = []\n",
    "    y_list = []\n",
    "    with open(BASE_PATH + file_type + \"_x.txt\", \"rb\") as f:\n",
    "        for line in f:\n",
    "            processed_line = remove_hyperlink(line)\n",
    "            x_list.append(processed_line.strip())\n",
    "\n",
    "    with open(BASE_PATH + file_type + \"_y.txt\", \"rb\") as f:\n",
    "        for line in f:\n",
    "            y_list.append(int(line.strip()))\n",
    "\n",
    "    return x_list, y_list"
   ]
  },
  {
   "cell_type": "code",
   "execution_count": 34,
   "metadata": {},
   "outputs": [],
   "source": [
    "def plot_pr_curve(y_true, y_proba):\n",
    "    precision, recall, _ = precision_recall_curve(y_true, y_proba)\n",
    "    plt.step(recall, precision, color='r', alpha=0.2,\n",
    "             where='post')\n",
    "    plt.xlabel('Recall')\n",
    "    plt.ylabel('Precision')\n",
    "    plt.ylim([0.0, 1.05])\n",
    "    plt.xlim([0.0, 1.0])\n",
    "    plt.title('2-class Precision-Recall curve')\n",
    "    plt.grid()\n",
    "    plt.show()"
   ]
  },
  {
   "cell_type": "code",
   "execution_count": 33,
   "metadata": {},
   "outputs": [],
   "source": [
    "def evaluate(model, test_features, y_true):\n",
    "    y_pred = model.predict(test_features)\n",
    "    y_proba = model.predict_proba(test_features)[:, 1]\n",
    "    accuracy = accuracy_score(y_true, y_pred) * 100.0\n",
    "    auc_score = metrics.roc_auc_score(y_true, y_proba)\n",
    "    precision_score = metrics.average_precision_score(y_true, y_proba)\n",
    "    plot_pr_curve(y_true, y_proba)\n",
    "    return round(accuracy,2), round(auc_score, 4), round(precision_score, 4)"
   ]
  },
  {
   "cell_type": "code",
   "execution_count": 9,
   "metadata": {},
   "outputs": [],
   "source": [
    "def load_glove():\n",
    "    w2v = {}\n",
    "    with open(BASE_PATH + \"glove.6B.300d.txt\", \"rb\") as lines:\n",
    "        for line in lines:\n",
    "            tmp = line.split()\n",
    "            word = tmp[0].decode('utf-8')\n",
    "            embedding = np.array([float(val) for val in tmp[1:]])\n",
    "            w2v[word] = embedding\n",
    "    return w2v"
   ]
  },
  {
   "cell_type": "code",
   "execution_count": 10,
   "metadata": {},
   "outputs": [],
   "source": [
    "def load_word2vec():\n",
    "    model = gensim.models.KeyedVectors.load_word2vec_format(BASE_PATH + 'GoogleNews-vectors-negative300.bin.gz', \\\n",
    "                                                      binary=True)\n",
    "    return model"
   ]
  },
  {
   "cell_type": "code",
   "execution_count": 66,
   "metadata": {},
   "outputs": [],
   "source": [
    "class MeanIdfEmbeddingVectorizer(object):\n",
    "    def __init__(self, glove2vec, word2vec, idf_map):\n",
    "        self.glove2vec = glove2vec\n",
    "        self.word2vec = word2vec\n",
    "        self.idf_map = idf_map\n",
    "        # if a text is empty we should return a vector of zeros\n",
    "        # with the same dimensionality as all the other vectors\n",
    "        self.dim = 300\n",
    "\n",
    "    def fit(self, X, y=None):\n",
    "        return self\n",
    "\n",
    "    def transform(self, X):\n",
    "        X = MyTokenizer().fit_transform(X)\n",
    "        final_res = []\n",
    "        for words in X:\n",
    "            tmp_list = []\n",
    "            feature_vec = np.zeros((2*self.dim,),dtype=\"float32\")\n",
    "            idf_score_list = []\n",
    "            for w in words:\n",
    "                w = w.lower()\n",
    "                try:\n",
    "                    w2v_list = self.word2vec[w]\n",
    "                except KeyError:\n",
    "                    w2v_list = np.zeros(self.dim)\n",
    "                try:\n",
    "                    g2v_list = self.glove2vec[w]\n",
    "                except KeyError:\n",
    "                    g2v_list = np.zeros(self.dim)\n",
    "                curr_word_vec = np.concatenate([g2v_list, w2v_list])\n",
    "                try:\n",
    "                    idf_val = self.idf_map[w]\n",
    "                except KeyError:\n",
    "                    idf_val = 0.0\n",
    "                idf_score_list.append(idf_val)\n",
    "                feature_vec = np.add(feature_vec, np.multiply(curr_word_vec, idf_val))\n",
    "            final_res.append(np.divide(feature_vec, np.sum(idf_score_list)))\n",
    "        return np.array(final_res)            \n",
    "    \n",
    "    def fit_transform(self, X, y=None):\n",
    "        return self.transform(X)"
   ]
  },
  {
   "cell_type": "code",
   "execution_count": 12,
   "metadata": {},
   "outputs": [],
   "source": [
    "g2v = load_glove()\n",
    "w2v = load_word2vec()"
   ]
  },
  {
   "cell_type": "code",
   "execution_count": 17,
   "metadata": {},
   "outputs": [
    {
     "name": "stdout",
     "output_type": "stream",
     "text": [
      "Training File Read - Size:  2594\n",
      "Test File Read - Size:  721\n",
      "Validation File Read - Size:  289\n"
     ]
    }
   ],
   "source": [
    "x_train, y_train = read_files(\"train\")\n",
    "print(\"Training File Read - Size: \", len(x_train))\n",
    "x_test, y_test = read_files(\"test\")\n",
    "print(\"Test File Read - Size: \", len(x_test))\n",
    "x_val, y_val = read_files(\"val\")\n",
    "print(\"Validation File Read - Size: \", len(x_val))"
   ]
  },
  {
   "cell_type": "code",
   "execution_count": 51,
   "metadata": {},
   "outputs": [],
   "source": [
    "vectorizer = TfidfVectorizer(min_df=5, max_df = 0.8, sublinear_tf=True, use_idf =True, stop_words = 'english')\n",
    "tf_idf = vectorizer.fit_transform(x_train + x_test)"
   ]
  },
  {
   "cell_type": "code",
   "execution_count": 52,
   "metadata": {},
   "outputs": [],
   "source": [
    "idf_score = vectorizer._tfidf.idf_\n",
    "feature_names = vectorizer.get_feature_names()\n",
    "idf_map = {}\n",
    "for i in range(0, len(feature_names)):\n",
    "    idf_map[feature_names[i]] = idf_score[i]"
   ]
  },
  {
   "cell_type": "code",
   "execution_count": 67,
   "metadata": {},
   "outputs": [],
   "source": [
    "x_train_tf_idf_new = MeanIdfEmbeddingVectorizer(g2v, w2v, idf_map).fit_transform(x_train)\n",
    "x_test_tf_idf_new = MeanIdfEmbeddingVectorizer(g2v, w2v, idf_map).fit_transform(x_test)"
   ]
  },
  {
   "cell_type": "code",
   "execution_count": 70,
   "metadata": {},
   "outputs": [
    {
     "data": {
      "text/plain": [
       "['../model/svc_g2v_w2v_idf.pkl']"
      ]
     },
     "execution_count": 70,
     "metadata": {},
     "output_type": "execute_result"
    }
   ],
   "source": [
    "svm_clf = SVC(probability=True, kernel='linear').fit(x_train_tf_idf_new, y_train)\n",
    "#joblib.dump(svm_clf, '../model/svc_g2v_w2v_idf.pkl')"
   ]
  },
  {
   "cell_type": "code",
   "execution_count": 69,
   "metadata": {},
   "outputs": [
    {
     "data": {
      "image/png": "[encoded data removed]",
      "text/plain": [
       "<Figure size 432x288 with 1 Axes>"
      ]
     },
     "metadata": {},
     "output_type": "display_data"
    },
    {
     "name": "stdout",
     "output_type": "stream",
     "text": [
      "Linear SVM Metrics: Accuracy-90.71, AUC-0.9633 and PR_Score-0.9401\n"
     ]
    }
   ],
   "source": [
    "#svc_linear_glove_clf = joblib.load('../model/svc_word2vec_mean.pkl')\n",
    "accuracy, auc_score, precision_score = evaluate(svm_clf, x_test_tf_idf_new, y_test)\n",
    "print(\"Linear SVM Metrics: Accuracy-{accuracy}, AUC-{auc_score} and PR_Score-{precision_score}\"\n",
    "      .format(accuracy=accuracy, auc_score=auc_score, precision_score=precision_score))\n"
   ]
  },
  {
   "cell_type": "markdown",
   "metadata": {},
   "source": [
    "# SVD"
   ]
  },
  {
   "cell_type": "code",
   "execution_count": 29,
   "metadata": {},
   "outputs": [],
   "source": [
    "from sklearn.pipeline import Pipeline\n",
    "from sklearn.decomposition import TruncatedSVD\n",
    "from sklearn.preprocessing import StandardScaler"
   ]
  },
  {
   "cell_type": "code",
   "execution_count": 21,
   "metadata": {},
   "outputs": [],
   "source": [
    "stemmer = PorterStemmer()\n",
    "def stem_tokens(tokens, stemmer):\n",
    "    stemmed = []\n",
    "    for item in tokens:\n",
    "        stemmed.append(stemmer.stem(item))\n",
    "    return stemmed\n",
    "\n",
    "def tokenize(text):\n",
    "    tokens = nltk.word_tokenize(text)\n",
    "    stems = stem_tokens(tokens, stemmer)\n",
    "    return stems"
   ]
  },
  {
   "cell_type": "code",
   "execution_count": 49,
   "metadata": {},
   "outputs": [
    {
     "name": "stdout",
     "output_type": "stream",
     "text": [
      "Training File Read - Size:  2594\n",
      "Test File Read - Size:  721\n",
      "Validation File Read - Size:  289\n"
     ]
    }
   ],
   "source": [
    "x_train, y_train = read_files(\"train\")\n",
    "print(\"Training File Read - Size: \", len(x_train))\n",
    "x_test, y_test = read_files(\"test\")\n",
    "print(\"Test File Read - Size: \", len(x_test))\n",
    "x_val, y_val = read_files(\"val\")\n",
    "print(\"Validation File Read - Size: \", len(x_val))"
   ]
  },
  {
   "cell_type": "code",
   "execution_count": 50,
   "metadata": {},
   "outputs": [
    {
     "data": {
      "text/plain": [
       "TfidfVectorizer(analyzer='word', binary=False, decode_error='strict',\n",
       "        dtype=<class 'numpy.int64'>, encoding='utf-8', input='content',\n",
       "        lowercase=True, max_df=1.0, max_features=None, min_df=3,\n",
       "        ngram_range=(1, 3), norm='l2', preprocessor=None, smooth_idf=True,\n",
       "        stop_words='english', strip_accents='unicode', sublinear_tf=True,\n",
       "        token_pattern='\\\\w{1,}',\n",
       "        tokenizer=<function tokenize at 0x000001F41AF54D90>, use_idf=True,\n",
       "        vocabulary=None)"
      ]
     },
     "execution_count": 50,
     "metadata": {},
     "output_type": "execute_result"
    }
   ],
   "source": [
    "tfv = TfidfVectorizer(min_df=3, max_features=None, strip_accents='unicode', analyzer='word', \n",
    "                      token_pattern=r'\\w{1,}', ngram_range=(1, 3), use_idf=True, smooth_idf=True, \n",
    "                      sublinear_tf=True, stop_words = 'english', tokenizer = tokenize)\n",
    "tfv.fit(x_train)"
   ]
  },
  {
   "cell_type": "code",
   "execution_count": 51,
   "metadata": {},
   "outputs": [],
   "source": [
    "x_train_tf_idf = tfv.transform(x_train)\n",
    "x_test_tf_idf = tfv.transform(x_test)"
   ]
  },
  {
   "cell_type": "code",
   "execution_count": 55,
   "metadata": {},
   "outputs": [],
   "source": [
    "clf = Pipeline([('svd', TruncatedSVD(n_components=2000, algorithm='randomized', n_iter=5, random_state=None, tol=0.0)), \n",
    "                ('scl', StandardScaler(copy=True, with_mean=True, with_std=True)), \n",
    "                ('svm', SVC(kernel='linear', probability=True))])"
   ]
  },
  {
   "cell_type": "code",
   "execution_count": null,
   "metadata": {},
   "outputs": [],
   "source": [
    "clf.fit(x_train_tf_idf, y_train)"
   ]
  },
  {
   "cell_type": "code",
   "execution_count": null,
   "metadata": {},
   "outputs": [],
   "source": [
    "#svc_linear_glove_clf = joblib.load('../model/svc_word2vec_mean.pkl')\n",
    "accuracy, auc_score, precision_score = evaluate(clf, x_test_tf_idf, y_test)\n",
    "print(\"Linear SVM Metrics: Accuracy-{accuracy}, AUC-{auc_score} and PR_Score-{precision_score}\"\n",
    "      .format(accuracy=accuracy, auc_score=auc_score, precision_score=precision_score))\n"
   ]
  },
  {
   "cell_type": "code",
   "execution_count": null,
   "metadata": {},
   "outputs": [],
   "source": []
  }
 ],
 "metadata": {
  "kernelspec": {
   "display_name": "Python 3",
   "language": "python",
   "name": "python3"
  },
  "language_info": {
   "codemirror_mode": {
    "name": "ipython",
    "version": 3
   },
   "file_extension": ".py",
   "mimetype": "text/x-python",
   "name": "python",
   "nbconvert_exporter": "python",
   "pygments_lexer": "ipython3",
   "version": "3.5.0"
  }
 },
 "nbformat": 4,
 "nbformat_minor": 2
}
