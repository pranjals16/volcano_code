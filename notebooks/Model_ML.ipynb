{
 "cells": [
  {
   "cell_type": "code",
   "execution_count": 90,
   "metadata": {},
   "outputs": [],
   "source": [
    "import pandas as pd\n",
    "import numpy as np\n",
    "import glob\n",
    "from sklearn.feature_extraction.text import CountVectorizer\n",
    "from sklearn.feature_extraction.text import TfidfTransformer\n",
    "from sklearn.naive_bayes import MultinomialNB\n",
    "from sklearn.model_selection import train_test_split\n",
    "from sklearn import metrics\n",
    "from sklearn.ensemble import RandomForestClassifier"
   ]
  },
  {
   "cell_type": "code",
   "execution_count": 9,
   "metadata": {},
   "outputs": [],
   "source": [
    "BASE_PATH = \"C:/Users/pranjal/Desktop/kettle/model_data/\"\n",
    "SCIENCE_PATH = BASE_PATH + \"science/*.txt\"\n",
    "TECH_PATH = BASE_PATH + \"technology/*.txt\""
   ]
  },
  {
   "cell_type": "code",
   "execution_count": 80,
   "metadata": {},
   "outputs": [],
   "source": [
    "science_files = glob.glob(SCIENCE_PATH)\n",
    "tech_files = glob.glob(TECH_PATH)\n",
    "science_file_list = []\n",
    "tech_file_list = []\n",
    "for file_name in science_files:\n",
    "    with open(file_name, \"rb\") as f:\n",
    "        science_file_list.append(\" \".join(f.readlines()))\n",
    "\n",
    "for file_name in tech_files:\n",
    "    with open(file_name, \"rb\") as f:\n",
    "        tech_file_list.append(\" \".join(f.readlines()))"
   ]
  },
  {
   "cell_type": "code",
   "execution_count": 81,
   "metadata": {},
   "outputs": [],
   "source": [
    "X = science_file_list + tech_file_list\n",
    "y = ([0] * len(science_file_list)) + ([1] * len(tech_file_list))"
   ]
  },
  {
   "cell_type": "code",
   "execution_count": 82,
   "metadata": {},
   "outputs": [],
   "source": [
    "X_train, X_test, y_train, y_test = train_test_split(X, y, test_size=0.20, random_state=42)"
   ]
  },
  {
   "cell_type": "code",
   "execution_count": 83,
   "metadata": {},
   "outputs": [],
   "source": [
    "count_vect = CountVectorizer()\n",
    "X_train_counts = count_vect.fit_transform(X_train)\n",
    "tfidf_transformer = TfidfTransformer()\n",
    "X_train_tfidf = tfidf_transformer.fit_transform(X_train_counts)\n",
    "\n",
    "X_test_counts = count_vect.transform(X_test)\n",
    "X_test_tfidf = tfidf_transformer.transform(X_test_counts)"
   ]
  },
  {
   "cell_type": "code",
   "execution_count": 94,
   "metadata": {},
   "outputs": [],
   "source": [
    "clf_nb = MultinomialNB().fit(X_train_tfidf, y_train)\n",
    "clf_rf = RandomForestClassifier().fit(X_train_tfidf, y_train)"
   ]
  },
  {
   "cell_type": "code",
   "execution_count": 95,
   "metadata": {},
   "outputs": [
    {
     "name": "stdout",
     "output_type": "stream",
     "text": [
      "Naive Bayes:  0.8136363636363636\n",
      "Random Forest:  0.8590909090909091\n"
     ]
    }
   ],
   "source": [
    "predicted_nb = clf_nb.predict(X_test_tfidf)\n",
    "predicted_rf = clf_rf.predict(X_test_tfidf)\n",
    "print \"Naive Bayes: \", np.mean(predicted_nb == y_test)\n",
    "print \"Random Forest: \", np.mean(predicted_rf == y_test)"
   ]
  },
  {
   "cell_type": "code",
   "execution_count": null,
   "metadata": {},
   "outputs": [],
   "source": []
  }
 ],
 "metadata": {
  "kernelspec": {
   "display_name": "Python 2",
   "language": "python",
   "name": "python2"
  },
  "language_info": {
   "codemirror_mode": {
    "name": "ipython",
    "version": 2
   },
   "file_extension": ".py",
   "mimetype": "text/x-python",
   "name": "python",
   "nbconvert_exporter": "python",
   "pygments_lexer": "ipython2",
   "version": "2.7.14"
  }
 },
 "nbformat": 4,
 "nbformat_minor": 2
}
